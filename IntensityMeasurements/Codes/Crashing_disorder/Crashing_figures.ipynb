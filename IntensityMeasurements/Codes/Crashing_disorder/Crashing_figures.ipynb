{
 "cells": [
  {
   "cell_type": "code",
   "execution_count": 1,
   "metadata": {},
   "outputs": [],
   "source": [
    "%load_ext autoreload\n",
    "%autoreload 2"
   ]
  },
  {
   "cell_type": "code",
   "execution_count": 2,
   "metadata": {},
   "outputs": [],
   "source": [
    "import matplotlib\n",
    "import matplotlib.pyplot as plt\n",
    "import matplotlib.colors as colors\n",
    "from matplotlib.colors import ListedColormap\n",
    "import numpy as np\n",
    "import json\n",
    "import os\n",
    "import sys\n",
    "import pickle\n",
    "from scipy import ndimage\n",
    "\n",
    "# for Jupyter lab\n",
    "# %matplotlib widget\n",
    "# for Jupyter notebook\n",
    "# %matplotlib notebook\n",
    "%matplotlib inline\n"
   ]
  },
  {
   "cell_type": "code",
   "execution_count": 8,
   "metadata": {},
   "outputs": [],
   "source": [
    "Fun4all_path = os.path.abspath(os.path.join('..','..','..','..','CodesForAll'))\n",
    "sys.path.append(Fun4all_path)\n",
    "\n",
    "from plot_fun import colorize, adjust_lightness, get_blue_map\n",
    "from analy_fun import cpx_corr, fidelity, seq_cpx_corr"
   ]
  },
  {
   "cell_type": "code",
   "execution_count": 9,
   "metadata": {},
   "outputs": [],
   "source": [
    "from pyTen.decompositions import hosvd, als3herm, als4herm2"
   ]
  },
  {
   "cell_type": "code",
   "execution_count": 10,
   "metadata": {},
   "outputs": [],
   "source": [
    "from fisher_functions import get_W3, get_W4"
   ]
  },
  {
   "cell_type": "code",
   "execution_count": null,
   "metadata": {},
   "outputs": [],
   "source": [
    "from functions import getOutputFields, fisherPerMode, \\\n",
    "    fisher, getFisherOperator\n",
    "from functions import resize_modes\n",
    "from functions import cpx_zoom"
   ]
  },
  {
   "cell_type": "code",
   "execution_count": 19,
   "metadata": {},
   "outputs": [],
   "source": [
    "SMALL_SIZE = 16\n",
    "MEDIUM_SIZE = 18\n",
    "BIGGER_SIZE = 20\n",
    "\n",
    "plt.rc('font', size=SMALL_SIZE)          # controls default text sizes\n",
    "plt.rc('axes', titlesize=SMALL_SIZE)     # fontsize of the axes title\n",
    "plt.rc('axes', labelsize=MEDIUM_SIZE)    # fontsize of the x and y labels\n",
    "plt.rc('xtick', labelsize=MEDIUM_SIZE)    # fontsize of the tick labels\n",
    "plt.rc('ytick', labelsize=MEDIUM_SIZE)    # fontsize of the tick labels\n",
    "plt.rc('legend', fontsize=SMALL_SIZE)    # legend fontsize\n",
    "plt.rc('figure', titlesize=MEDIUM_SIZE)  # fontsize of the figure title\n",
    "\n",
    "\n",
    "\n",
    "plt.rc('figure', facecolor='white') # white background for VSC\n",
    "cmap_int = 'gist_heat'\n",
    "cmap_fish = 'inferno'\n",
    "\n",
    "function = fidelity\n",
    "noise = 'gaussian'#'poisson'\n",
    "\n",
    "data_path = os.path.abspath(os.path.join('..','..','MyData')) #pc\n",
    "# data_path = os.path.abspath(os.path.join('..','..','..','My_data','GRIN')) #mac\n",
    "fig_path = os.path.abspath(os.path.join('..','Figs'))\n"
   ]
  },
  {
   "attachments": {},
   "cell_type": "markdown",
   "metadata": {},
   "source": [
    "# 1. Load data"
   ]
  },
  {
   "cell_type": "code",
   "execution_count": 20,
   "metadata": {},
   "outputs": [],
   "source": [
    "with open(os.path.join(data_path, 'param.pkl'), 'rb') as file:\n",
    "        param = pickle.load(file, encoding='latin1')"
   ]
  },
  {
   "cell_type": "code",
   "execution_count": 21,
   "metadata": {},
   "outputs": [],
   "source": [
    "modes = np.load(os.path.join(data_path,'modes.npz'))\n",
    "\n",
    "N_in = param['fiber']['inpoints'] \n",
    "N_out = param['fiber']['onpoints'] \n",
    "steps_pressure = param['Deformation']['steps_pressure']\n",
    "n_steps = len(steps_pressure)\n",
    "n_mod = param['modes']['num_modes']"
   ]
  },
  {
   "cell_type": "code",
   "execution_count": 22,
   "metadata": {},
   "outputs": [],
   "source": [
    "modes_out = modes['modes_out1_corr']\n",
    "modes_in = modes['modes_in_corr']\n",
    "\n",
    "TM_full_pix = np.load(os.path.join(data_path,'TMs_pix.npy'))\n",
    "TM_full_mod = np.load(os.path.join(data_path,'TMs_mode.npy'))\n",
    "\n",
    "TM_pix = TM_full_pix[:,:N_out**2]\n",
    "TM_mod = TM_full_mod[:,:n_mod] # modes_out.conj() @ TM_pix[0]@ modes_in.T\n",
    "\n",
    "TM_mix =  TM_pix @ modes_in.T"
   ]
  },
  {
   "attachments": {},
   "cell_type": "markdown",
   "metadata": {},
   "source": [
    "# 2. Sensitivity to deformation"
   ]
  },
  {
   "attachments": {},
   "cell_type": "markdown",
   "metadata": {},
   "source": [
    "## 2.1 Compute crashing modes and MIIS"
   ]
  },
  {
   "cell_type": "code",
   "execution_count": 30,
   "metadata": {},
   "outputs": [
    {
     "data": {
      "text/plain": [
       "[<matplotlib.lines.Line2D at 0x2142cecb8b0>]"
      ]
     },
     "execution_count": 30,
     "metadata": {},
     "output_type": "execute_result"
    },
    {
     "data": {
      "image/png": "[encoded data removed]",
      "text/plain": [
       "<Figure size 432x288 with 1 Axes>"
      ]
     },
     "metadata": {},
     "output_type": "display_data"
    }
   ],
   "source": []
  },
  {
   "cell_type": "code",
   "execution_count": 51,
   "metadata": {},
   "outputs": [],
   "source": [
    "# central deformation to estimate the WS operator\n",
    "center_TM_index = 24\n",
    "# step to evaluate the derivative\n",
    "step = 1\n",
    "\n",
    "Hmix_list = [TM_mix[center_TM_index - step], \n",
    "                      TM_mix[center_TM_index], \n",
    "                      TM_mix[center_TM_index + step]]\n",
    "W_ten = get_W3(Hmix_list, method='3pts')\n",
    "W_ten2 = get_W3(Hmix_list, method='2pts')"
   ]
  },
  {
   "cell_type": "code",
   "execution_count": 54,
   "metadata": {},
   "outputs": [
    {
     "data": {
      "text/plain": [
       "<matplotlib.collections.LineCollection at 0x2142d43ad90>"
      ]
     },
     "execution_count": 54,
     "metadata": {},
     "output_type": "execute_result"
    },
    {
     "data": {
      "image/png": "[encoded data removed]",
      "text/plain": [
       "<Figure size 432x288 with 1 Axes>"
      ]
     },
     "metadata": {},
     "output_type": "display_data"
    }
   ],
   "source": [
    "plt.plot(fidelity(TM_mod,TM_mod[0]))\n",
    "plt.vlines(center_TM_index,0.5,1)\n",
    "plt.vlines(center_TM_index+step,0.5,1)"
   ]
  },
  {
   "cell_type": "code",
   "execution_count": 53,
   "metadata": {},
   "outputs": [
    {
     "data": {
      "image/png": "[encoded data removed]",
      "text/plain": [
       "<Figure size 576x288 with 2 Axes>"
      ]
     },
     "metadata": {},
     "output_type": "display_data"
    }
   ],
   "source": [
    "ind=1245\n",
    "fig, axs = plt.subplots(1,2, figsize=(8,4))\n",
    "axs[0].imshow(colorize(W_ten[ind]))\n",
    "axs[1].imshow(colorize(W_ten2[ind]))\n",
    "for ax in axs:\n",
    "    ax.axis('off')"
   ]
  },
  {
   "cell_type": "code",
   "execution_count": null,
   "metadata": {},
   "outputs": [],
   "source": [
    "us_hosvd, s_hosvd = hosvd(W_ten)"
   ]
  },
  {
   "cell_type": "code",
   "execution_count": null,
   "metadata": {},
   "outputs": [],
   "source": [
    "\n",
    "f_sings = np.empty(55)\n",
    "for i in range(55):\n",
    "    f_sings[i] = fisher(us_hosvd[2][:,i], [Hmix_list[0],Hmix_list[-1]], noise=noise)\n",
    "sorted_ind = np.argsort(f_sings)"
   ]
  },
  {
   "attachments": {},
   "cell_type": "markdown",
   "metadata": {},
   "source": [
    "# 3. Pixel Fisher and out fields"
   ]
  },
  {
   "attachments": {},
   "cell_type": "markdown",
   "metadata": {},
   "source": [
    "# 4. Estimating change in perturbation"
   ]
  },
  {
   "attachments": {},
   "cell_type": "markdown",
   "metadata": {},
   "source": [
    "# 5. Optimal output modes"
   ]
  },
  {
   "attachments": {},
   "cell_type": "markdown",
   "metadata": {},
   "source": [
    "# 6. Optimal output basis"
   ]
  },
  {
   "cell_type": "markdown",
   "metadata": {},
   "source": []
  }
 ],
 "metadata": {
  "kernelspec": {
   "display_name": "base",
   "language": "python",
   "name": "python3"
  },
  "language_info": {
   "codemirror_mode": {
    "name": "ipython",
    "version": 3
   },
   "file_extension": ".py",
   "mimetype": "text/x-python",
   "name": "python",
   "nbconvert_exporter": "python",
   "pygments_lexer": "ipython3",
   "version": "3.9.7"
  },
  "orig_nbformat": 4,
  "vscode": {
   "interpreter": {
    "hash": "c4db1680dd2d302d2b076ea601519099e11af464fca1e482b1dc2c46ce220c5c"
   }
  }
 },
 "nbformat": 4,
 "nbformat_minor": 2
}
